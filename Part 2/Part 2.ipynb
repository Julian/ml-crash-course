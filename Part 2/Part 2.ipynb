{
 "cells": [
  {
   "cell_type": "code",
   "execution_count": null,
   "metadata": {},
   "outputs": [],
   "source": [
    "!apt install -y openjdk-8-jdk && python3 -m pip install h2o"
   ]
  },
  {
   "cell_type": "markdown",
   "metadata": {},
   "source": [
    "# Machine Learning Crash Course: Model Families and Hyperparameters\n",
    "\n",
    "In our second notebook, we're going to begin to explore some of the internals that were handled for us when using H2O's AutoML. We won't fully work through prediction like we did in the first portion, since our goal is to drop down just one layer of abstraction in order to understand some of what occured automatically for us, not to fully immerse ourselves in this level of detail.\n",
    "\n",
    "### Start H2O\n",
    "\n",
    "Import the **h2o** Python module and `H2OAutoML` class and initialize a local H2O cluster. If you ran part 1's notebook, this should detect the still-running H2O cluster that was started earlier."
   ]
  },
  {
   "cell_type": "code",
   "execution_count": null,
   "metadata": {},
   "outputs": [],
   "source": [
    "import h2o\n",
    "from h2o.automl import H2OAutoML\n",
    "h2o.init()"
   ]
  },
  {
   "cell_type": "markdown",
   "metadata": {},
   "source": [
    "### Load Data\n",
    "\n",
    "Just as we did when letting H2O figure out what models to build for us, we're going to load a dataset. This time, we'll use a subset of a publically available [Single-family Loan dataset from Freddie Mac](http://www.freddiemac.com/fmac-resources/research/pdf/user_guide.pdf).  Here we'll predict whether or not a loan holder will default on their loan."
   ]
  },
  {
   "cell_type": "code",
   "execution_count": null,
   "metadata": {},
   "outputs": [],
   "source": [
    "df = h2o.import_file(\"https://s3.amazonaws.com/data.h2o.ai/DAI-Tutorials/loan_level_500k.csv\")"
   ]
  },
  {
   "cell_type": "markdown",
   "metadata": {},
   "source": [
    "Let's again inspect the dataset we've loaded to see what columns it contains, and compare them with the user guide linked above."
   ]
  },
  {
   "cell_type": "code",
   "execution_count": null,
   "metadata": {
    "collapsed": false,
    "inputHidden": false,
    "jupyter": {
     "outputs_hidden": false
    },
    "outputHidden": false
   },
   "outputs": [],
   "source": [
    "df.head()"
   ]
  },
  {
   "cell_type": "markdown",
   "metadata": {},
   "source": [
    "We can also again investigate the distributions and types of the columns we have."
   ]
  },
  {
   "cell_type": "code",
   "execution_count": null,
   "metadata": {},
   "outputs": [],
   "source": [
    "df.describe()"
   ]
  },
  {
   "cell_type": "markdown",
   "metadata": {},
   "source": [
    "The target we'll predict will be the `DELINQUENT` column, which indicates whether the loan holder in a given row was delinquent on their loan. Let's look at the distribution of its values."
   ]
  },
  {
   "cell_type": "code",
   "execution_count": null,
   "metadata": {
    "collapsed": false,
    "inputHidden": false,
    "jupyter": {
     "outputs_hidden": false
    },
    "outputHidden": false
   },
   "outputs": [],
   "source": [
    "df[\"DELINQUENT\"].table()"
   ]
  },
  {
   "cell_type": "markdown",
   "metadata": {},
   "source": [
    "We can see we have many more non-delinquent loan holders than delinquent ones. It's often important to notice highly skewed or imbalanced target variables, and there are techniques for \"fixing\", \"modifying\", or \"rebalancing\" this kind of imbalance in order to improve the quality of a trained model."
   ]
  },
  {
   "cell_type": "markdown",
   "metadata": {},
   "source": [
    "The first \"new\" thing we'll do, which previously H2O had done for us, is to split our dataset into a few parts."
   ]
  },
  {
   "cell_type": "code",
   "execution_count": null,
   "metadata": {},
   "outputs": [],
   "source": [
    "training, validation, test = df.split_frame([0.7, 0.15])\n",
    "print(\n",
    "    \"\"\"\n",
    "    training rows: %d\n",
    "    validation rows: %d\n",
    "    test rows: %d\n",
    "    \"\"\" % (training.nrows, validation.nrows, test.nrows)\n",
    ")"
   ]
  },
  {
   "cell_type": "markdown",
   "metadata": {},
   "source": [
    "Similar to previously, we specify the columns that will be used as features, and our target column."
   ]
  },
  {
   "cell_type": "code",
   "execution_count": null,
   "metadata": {
    "collapsed": false,
    "inputHidden": false,
    "jupyter": {
     "outputs_hidden": false
    },
    "outputHidden": false
   },
   "outputs": [],
   "source": [
    "y = \"DELINQUENT\"\n",
    "\n",
    "ignore = [\"DELINQUENT\", \"PREPAID\", \"PREPAYMENT_PENALTY_MORTGAGE_FLAG\", \"PRODUCT_TYPE\"] \n",
    "\n",
    "x = list(set(training.names) - set(ignore))"
   ]
  },
  {
   "cell_type": "markdown",
   "metadata": {},
   "source": [
    "## A Specific Model Family: Boosted Trees\n",
    "\n",
    "We're going to build a model of a specific type, a **gradient boosted tree**."
   ]
  },
  {
   "cell_type": "code",
   "execution_count": null,
   "metadata": {},
   "outputs": [],
   "source": [
    "import h2o.estimators.gbm\n",
    "gbm = h2o.estimators.gbm.H2OGradientBoostingEstimator()\n",
    "gbm.train(x=x, y=y, training_frame=training, validation_frame=validation)"
   ]
  },
  {
   "cell_type": "markdown",
   "metadata": {},
   "source": [
    "We can investigate the specific GBM model that we created:"
   ]
  },
  {
   "cell_type": "code",
   "execution_count": null,
   "metadata": {
    "collapsed": false,
    "inputHidden": false,
    "jupyter": {
     "outputs_hidden": false
    },
    "outputHidden": false
   },
   "outputs": [],
   "source": [
    "gbm"
   ]
  },
  {
   "cell_type": "markdown",
   "metadata": {},
   "source": [
    "And as before, we can run predictions, here on our validation set:"
   ]
  },
  {
   "cell_type": "code",
   "execution_count": null,
   "metadata": {
    "collapsed": false,
    "inputHidden": false,
    "jupyter": {
     "outputs_hidden": false
    },
    "outputHidden": false
   },
   "outputs": [],
   "source": [
    "gbm.predict(validation)"
   ]
  },
  {
   "cell_type": "markdown",
   "metadata": {},
   "source": [
    "## Hyperparameters\n",
    "\n",
    "Many model families have what are called \"hyperparameters\".\n",
    "\n",
    "Hyperparameters are loosely parameters to the model building itself, as opposed to parameters that are learned during training the model."
   ]
  },
  {
   "cell_type": "code",
   "execution_count": null,
   "metadata": {},
   "outputs": [],
   "source": [
    "hyper_params = {'max_depth' : [1,3,5,6,7,8,9,10,12,13,15]}\n",
    "\n",
    "gbm = h2o.estimators.gbm.H2OGradientBoostingEstimator(ntrees=150)\n",
    "gbm_grid = h2o.grid.H2OGridSearch(\n",
    "    gbm,\n",
    "    hyper_params,\n",
    "    search_criteria={\"strategy\":\"Cartesian\"},\n",
    ")\n",
    "\n",
    "gbm_grid.train(\n",
    "    x=x, y=y, training_frame=training, validation_frame=validation,\n",
    ")"
   ]
  },
  {
   "cell_type": "code",
   "execution_count": null,
   "metadata": {},
   "outputs": [],
   "source": [
    "sorted_gbm_depth = gbm_grid.get_grid(sort_by='auc',decreasing=True)\n",
    "sorted_gbm_depth"
   ]
  },
  {
   "cell_type": "markdown",
   "metadata": {},
   "source": [
    "## Exercise\n",
    "\n",
    "Use the AutoML techniques we learned in part 1 to build an AutoML model for this new dataset. How does it compare to the model we built manually?"
   ]
  },
  {
   "cell_type": "code",
   "execution_count": null,
   "metadata": {},
   "outputs": [],
   "source": [
    "from h2o.automl import H2OAutoML"
   ]
  },
  {
   "cell_type": "markdown",
   "metadata": {},
   "source": [
    "The contents of this notebook were lightly adapted from a tutorial in the [official H2O AutoML documentation](https://h2oai.github.io/tutorials/introduction-to-machine-learning-with-h2o-part-1/). There are many more interesting tutorials to work through there. Explore them!"
   ]
  }
 ],
 "metadata": {
  "kernel_info": {
   "name": "python3"
  },
  "kernelspec": {
   "display_name": "Python 3",
   "language": "python",
   "name": "python3"
  },
  "language_info": {
   "codemirror_mode": {
    "name": "ipython",
    "version": 3
   },
   "file_extension": ".py",
   "mimetype": "text/x-python",
   "name": "python",
   "nbconvert_exporter": "python",
   "pygments_lexer": "ipython3",
   "version": "3.8.1"
  },
  "nteract": {
   "version": "0.15.0"
  }
 },
 "nbformat": 4,
 "nbformat_minor": 4
}
